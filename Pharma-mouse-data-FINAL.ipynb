{
 "cells": [
  {
   "cell_type": "markdown",
   "metadata": {},
   "source": [
    "# Pharmaceutical Clinical Mice Trials - Matplotlib & Pandas"
   ]
  },
  {
   "cell_type": "markdown",
   "metadata": {},
   "source": [
    "## General Observations\n",
    "\n",
    "1) Capomulin and Ramicane both had the lowest overall average tumor volumes across all datapoints, as well as relatively low variance, standard deviation, and SEM - suggesting that the results for those two regimens were more positive and more consistent than the other regimens studied.\n",
    "\n",
    "2) Looking at the tumor growth in one of the Capomulin mice (Mouse t565), the results indicate that Capomulin does inhibit tumor growth, but only to a certain point (in this case, between time points 10 and 30). After that, the effectiveness of the drug seems to plateau tumor growth starts to increase again, even with the regimen.\n",
    "\n",
    "3) Looking at the data for the Capomulin mice, there is a positive correleation between the each mouse's weight and the volume of the tumor, meaning the larger the mouse, the larger the tumor."
   ]
  },
  {
   "cell_type": "markdown",
   "metadata": {},
   "source": [
    "## Dependancies & Starter Code"
   ]
  },
  {
   "cell_type": "code",
   "execution_count": 54,
   "metadata": {},
   "outputs": [],
   "source": [
    "import matplotlib.pyplot as plt\n",
    "import pandas as pd\n",
    "import numpy as np\n",
    "import scipy.stats as st\n",
    "import seaborn as sb\n",
    "sb.set()\n",
    "\n",
    "mouse_metadata = \"Mouse_metadata.csv\"\n",
    "study_results = \"Study_results.csv\"\n",
    "\n",
    "mouse_metadata = pd.read_csv(mouse_metadata)\n",
    "study_results = pd.read_csv(study_results)\n",
    "\n",
    "mouse_study_dataset = pd.merge(mouse_metadata, study_results, how=\"left\", on = [\"Mouse ID\", \"Mouse ID\"])"
   ]
  },
  {
   "cell_type": "markdown",
   "metadata": {},
   "source": [
    "## Summary Table: Tumor Growth by Volume (mm3)"
   ]
  },
  {
   "cell_type": "code",
   "execution_count": 13,
   "metadata": {},
   "outputs": [
    {
     "data": {
      "text/html": [
       "<div>\n",
       "<style scoped>\n",
       "    .dataframe tbody tr th:only-of-type {\n",
       "        vertical-align: middle;\n",
       "    }\n",
       "\n",
       "    .dataframe tbody tr th {\n",
       "        vertical-align: top;\n",
       "    }\n",
       "\n",
       "    .dataframe thead tr th {\n",
       "        text-align: left;\n",
       "    }\n",
       "\n",
       "    .dataframe thead tr:last-of-type th {\n",
       "        text-align: right;\n",
       "    }\n",
       "</style>\n",
       "<table border=\"1\" class=\"dataframe\">\n",
       "  <thead>\n",
       "    <tr>\n",
       "      <th></th>\n",
       "      <th colspan=\"5\" halign=\"left\">Tumor Volume (mm3)</th>\n",
       "    </tr>\n",
       "    <tr>\n",
       "      <th></th>\n",
       "      <th>Tumor Volume Mean</th>\n",
       "      <th>Tumor Volume Median</th>\n",
       "      <th>Tumor Volume Variance</th>\n",
       "      <th>Tumor Volume Std Dev</th>\n",
       "      <th>Tumor Volume SEM</th>\n",
       "    </tr>\n",
       "    <tr>\n",
       "      <th>Drug Regimen</th>\n",
       "      <th></th>\n",
       "      <th></th>\n",
       "      <th></th>\n",
       "      <th></th>\n",
       "      <th></th>\n",
       "    </tr>\n",
       "  </thead>\n",
       "  <tbody>\n",
       "    <tr>\n",
       "      <td>Capomulin</td>\n",
       "      <td>40.68</td>\n",
       "      <td>41.56</td>\n",
       "      <td>24.95</td>\n",
       "      <td>4.99</td>\n",
       "      <td>0.33</td>\n",
       "    </tr>\n",
       "    <tr>\n",
       "      <td>Ceftamin</td>\n",
       "      <td>52.59</td>\n",
       "      <td>51.78</td>\n",
       "      <td>39.29</td>\n",
       "      <td>6.27</td>\n",
       "      <td>0.47</td>\n",
       "    </tr>\n",
       "    <tr>\n",
       "      <td>Infubinol</td>\n",
       "      <td>52.88</td>\n",
       "      <td>51.82</td>\n",
       "      <td>43.13</td>\n",
       "      <td>6.57</td>\n",
       "      <td>0.49</td>\n",
       "    </tr>\n",
       "    <tr>\n",
       "      <td>Ketapril</td>\n",
       "      <td>55.24</td>\n",
       "      <td>53.70</td>\n",
       "      <td>68.55</td>\n",
       "      <td>8.28</td>\n",
       "      <td>0.60</td>\n",
       "    </tr>\n",
       "    <tr>\n",
       "      <td>Naftisol</td>\n",
       "      <td>54.33</td>\n",
       "      <td>52.51</td>\n",
       "      <td>66.17</td>\n",
       "      <td>8.13</td>\n",
       "      <td>0.60</td>\n",
       "    </tr>\n",
       "    <tr>\n",
       "      <td>Placebo</td>\n",
       "      <td>54.03</td>\n",
       "      <td>52.29</td>\n",
       "      <td>61.17</td>\n",
       "      <td>7.82</td>\n",
       "      <td>0.58</td>\n",
       "    </tr>\n",
       "    <tr>\n",
       "      <td>Propriva</td>\n",
       "      <td>52.32</td>\n",
       "      <td>50.85</td>\n",
       "      <td>42.35</td>\n",
       "      <td>6.51</td>\n",
       "      <td>0.51</td>\n",
       "    </tr>\n",
       "    <tr>\n",
       "      <td>Ramicane</td>\n",
       "      <td>40.22</td>\n",
       "      <td>40.67</td>\n",
       "      <td>23.49</td>\n",
       "      <td>4.85</td>\n",
       "      <td>0.32</td>\n",
       "    </tr>\n",
       "    <tr>\n",
       "      <td>Stelasyn</td>\n",
       "      <td>54.23</td>\n",
       "      <td>52.43</td>\n",
       "      <td>59.45</td>\n",
       "      <td>7.71</td>\n",
       "      <td>0.57</td>\n",
       "    </tr>\n",
       "    <tr>\n",
       "      <td>Zoniferol</td>\n",
       "      <td>53.24</td>\n",
       "      <td>51.82</td>\n",
       "      <td>48.53</td>\n",
       "      <td>6.97</td>\n",
       "      <td>0.52</td>\n",
       "    </tr>\n",
       "  </tbody>\n",
       "</table>\n",
       "</div>"
      ],
      "text/plain": [
       "             Tumor Volume (mm3)                                            \\\n",
       "              Tumor Volume Mean Tumor Volume Median Tumor Volume Variance   \n",
       "Drug Regimen                                                                \n",
       "Capomulin                 40.68               41.56                 24.95   \n",
       "Ceftamin                  52.59               51.78                 39.29   \n",
       "Infubinol                 52.88               51.82                 43.13   \n",
       "Ketapril                  55.24               53.70                 68.55   \n",
       "Naftisol                  54.33               52.51                 66.17   \n",
       "Placebo                   54.03               52.29                 61.17   \n",
       "Propriva                  52.32               50.85                 42.35   \n",
       "Ramicane                  40.22               40.67                 23.49   \n",
       "Stelasyn                  54.23               52.43                 59.45   \n",
       "Zoniferol                 53.24               51.82                 48.53   \n",
       "\n",
       "                                                    \n",
       "             Tumor Volume Std Dev Tumor Volume SEM  \n",
       "Drug Regimen                                        \n",
       "Capomulin                    4.99             0.33  \n",
       "Ceftamin                     6.27             0.47  \n",
       "Infubinol                    6.57             0.49  \n",
       "Ketapril                     8.28             0.60  \n",
       "Naftisol                     8.13             0.60  \n",
       "Placebo                      7.82             0.58  \n",
       "Propriva                     6.51             0.51  \n",
       "Ramicane                     4.85             0.32  \n",
       "Stelasyn                     7.71             0.57  \n",
       "Zoniferol                    6.97             0.52  "
      ]
     },
     "execution_count": 13,
     "metadata": {},
     "output_type": "execute_result"
    }
   ],
   "source": [
    "df = mouse_study_dataset.groupby(\"Drug Regimen\").agg({\"Tumor Volume (mm3)\":[\"mean\",\"median\",\"var\",\"std\",\"sem\"]}).round(2)\n",
    "summary_stats = df.rename(columns={'mean':'Tumor Volume Mean', 'median':'Tumor Volume Median', 'var':'Tumor Volume Variance','std':'Tumor Volume Std Dev', 'sem':'Tumor Volume SEM'})\n",
    "summary_stats"
   ]
  },
  {
   "cell_type": "markdown",
   "metadata": {},
   "source": [
    "## Number of datapoints per drug regimen"
   ]
  },
  {
   "cell_type": "code",
   "execution_count": 141,
   "metadata": {},
   "outputs": [
    {
     "data": {
      "text/plain": [
       "Drug Regimen\n",
       "Capomulin    230\n",
       "Ceftamin     178\n",
       "Infubinol    178\n",
       "Ketapril     188\n",
       "Naftisol     186\n",
       "Placebo      181\n",
       "Propriva     161\n",
       "Ramicane     228\n",
       "Stelasyn     181\n",
       "Zoniferol    182\n",
       "Name: Tumor Volume (mm3), dtype: int64"
      ]
     },
     "execution_count": 141,
     "metadata": {},
     "output_type": "execute_result"
    }
   ],
   "source": [
    "mouse_study_grouped = mouse_study_dataset.groupby([\"Drug Regimen\"])\n",
    "\n",
    "# CREATE VARIABLE FOR X-AXIS.......................................................................\n",
    "drug_regimen_sorted = mouse_study_dataset.sort_values(\"Drug Regimen\")\n",
    "drug_regimen = drug_regimen_sorted[\"Drug Regimen\"].unique()\n",
    "datapoints = mouse_study_grouped[\"Tumor Volume (mm3)\"].count()\n",
    "datapoints"
   ]
  },
  {
   "cell_type": "code",
   "execution_count": 142,
   "metadata": {},
   "outputs": [
    {
     "data": {
      "image/png": "[encoded data removed]",
      "text/plain": [
       "<Figure size 720x360 with 1 Axes>"
      ]
     },
     "metadata": {},
     "output_type": "display_data"
    }
   ],
   "source": [
    "# PLOT BAR GRAPH..................................................................................\n",
    "plt.figure(figsize=(10,5))\n",
    "plt.bar(drug_regimen, datapoints, color=sb.hls_palette(10, l=.5))\n",
    "plt.title(\"Datapoints per Drug Regimen Treatment\")\n",
    "plt.xlabel(\"Drug Regimen\")\n",
    "plt.ylabel(\"Number of Datapoints\")\n",
    "plt.xticks(rotation=45)\n",
    "plt.show()"
   ]
  },
  {
   "cell_type": "code",
   "execution_count": 132,
   "metadata": {},
   "outputs": [
    {
     "name": "stdout",
     "output_type": "stream",
     "text": [
      "Capomulin Lower Quartile: 32.38\n",
      "Capomulin Upper Quartile: 40.16\n",
      "Capomulin IQR: 7.78\n",
      "Outliers: below 20.7 or above 51.83\n",
      "---------------------------------------------------\n"
     ]
    }
   ],
   "source": [
    "Capomulin_by_MouseID = mouse_study_dataset.loc[mouse_study_dataset[\"Drug Regimen\"] == \"Capomulin\",:].groupby(\"Mouse ID\")\n",
    "Capomulin_final_timepoint = Capomulin_by_MouseID[[ \"Timepoint\"]].max()\n",
    "\n",
    "Capomulin_remerge_indexed = pd.merge(Capomulin_final_timepoint, mouse_study_dataset, how=\"left\", on = [\"Mouse ID\", \"Timepoint\"]).set_index(['Mouse ID'])\n",
    "Capomulin_final_volume = Capomulin_remerge_indexed[\"Tumor Volume (mm3)\"]\n",
    "\n",
    "Capomulin_quartiles = Capomulin_final_volume.quantile([.25,.5,.75])\n",
    "Caplowerq = Capomulin_quartiles[0.25]\n",
    "Capupperq = Capomulin_quartiles[0.75]\n",
    "Capiqr = Capupperq-Caplowerq\n",
    "Cap_lower_bound = Caplowerq - (1.5*Capiqr)\n",
    "Cap_upper_bound = Capupperq + (1.5*Capiqr)\n",
    "\n",
    "print(f\"Capomulin Lower Quartile: {round(Caplowerq,2)}\")\n",
    "print(f\"Capomulin Upper Quartile: {round(Capupperq,2)}\")\n",
    "print(f\"Capomulin IQR: {round(Capiqr,2)}\")\n",
    "print(f\"Outliers: below {round(Cap_lower_bound,2)} or above {round(Cap_upper_bound,2)}\")\n",
    "print(\"---------------------------------------------------\")"
   ]
  },
  {
   "cell_type": "markdown",
   "metadata": {},
   "source": [
    "## Promising Regimens"
   ]
  },
  {
   "cell_type": "markdown",
   "metadata": {},
   "source": [
    "### 1) Capomulin"
   ]
  },
  {
   "cell_type": "code",
   "execution_count": null,
   "metadata": {},
   "outputs": [],
   "source": [
    "#CALCULATE DATA SETS & FINAL TIMEPOINT FOR THE REGIMEN.........................................................\n",
    "Capomulin_by_MouseID = mouse_study_dataset.loc[mouse_study_dataset[\"Drug Regimen\"] == \"Capomulin\",:].groupby(\"Mouse ID\")\n",
    "Capomulin_final_timepoint = Capomulin_by_MouseID[[ \"Timepoint\"]].max()\n",
    "\n",
    "#REMERGE DATA & INDEX TO IDENTIFY THE FINAL TUMOR VOLUME FOR EACH MOUSE IN THE REGIMEN.........................\n",
    "Capomulin_remerge_indexed = pd.merge(Capomulin_final_timepoint, mouse_study_dataset, how=\"left\", on = [\"Mouse ID\", \"Timepoint\"]).set_index(['Mouse ID'])\n",
    "\n",
    "# SEPARATE OUT FINAL VOLUME FOR THE REGIMEN....................................................................\n",
    "Capomulin_final_volume = Capomulin_remerge_indexed[\"Tumor Volume (mm3)\"]\n",
    "\n",
    "# CALCULATE QUARTILES AND IQR FOR THE REGIMEN..................................................................\n",
    "Capomulin_quartiles = Capomulin_final_volume.quantile([.25,.5,.75])\n",
    "Caplowerq = Capomulin_quartiles[0.25]\n",
    "Capupperq = Capomulin_quartiles[0.75]\n",
    "Capiqr = Capupperq-Caplowerq\n",
    "Cap_lower_bound = Caplowerq - (1.5*Capiqr)\n",
    "Cap_upper_bound = Capupperq + (1.5*Capiqr)"
   ]
  },
  {
   "cell_type": "markdown",
   "metadata": {},
   "source": [
    "### 2) Ramicane"
   ]
  },
  {
   "cell_type": "code",
   "execution_count": 133,
   "metadata": {},
   "outputs": [],
   "source": [
    "Ramicane_by_MouseID = mouse_study_dataset.loc[mouse_study_dataset[\"Drug Regimen\"] == \"Ramicane\",:].groupby(\"Mouse ID\")\n",
    "Ramicane_final_timepoint = Ramicane_by_MouseID[[ \"Timepoint\"]].max()\n",
    "\n",
    "Ramicane_remerge_indexed = pd.merge(Ramicane_final_timepoint, mouse_study_dataset, how=\"left\", on = [\"Mouse ID\", \"Timepoint\"]).set_index(['Mouse ID'])\n",
    "Ramicane_final_volume = Ramicane_remerge_indexed[\"Tumor Volume (mm3)\"]\n",
    "\n",
    "Ramicane_quartiles = Ramicane_final_volume.quantile([.25,.5,.75])\n",
    "Ramlowerq = Ramicane_quartiles[0.25]\n",
    "Ramupperq = Ramicane_quartiles[0.75]\n",
    "Ramiqr = Ramupperq-Ramlowerq\n",
    "Ram_lower_bound = Ramlowerq - (1.5*Ramiqr)\n",
    "Ram_upper_bound = Ramupperq + (1.5*Ramiqr)"
   ]
  },
  {
   "cell_type": "markdown",
   "metadata": {},
   "source": [
    "### 3) Infubinol"
   ]
  },
  {
   "cell_type": "code",
   "execution_count": 134,
   "metadata": {},
   "outputs": [],
   "source": [
    "Infubinol_by_MouseID = mouse_study_dataset.loc[mouse_study_dataset[\"Drug Regimen\"] == \"Infubinol\",:].groupby(\"Mouse ID\")\n",
    "Infubinol_final_timepoint = Infubinol_by_MouseID[[ \"Timepoint\"]].max()\n",
    "\n",
    "Infubinol_remerge_indexed = pd.merge(Infubinol_final_timepoint, mouse_study_dataset, how=\"left\", on = [\"Mouse ID\", \"Timepoint\"]).set_index(['Mouse ID'])\n",
    "Infubinol_final_volume = Infubinol_remerge_indexed[\"Tumor Volume (mm3)\"]\n",
    "\n",
    "Infubinol_quartiles = Infubinol_final_volume.quantile([.25,.5,.75])\n",
    "Inflowerq = Infubinol_quartiles[0.25]\n",
    "Infupperq = Infubinol_quartiles[0.75]\n",
    "Infiqr = Infupperq-Inflowerq\n",
    "Inf_lower_bound = Inflowerq - (1.5*Infiqr)\n",
    "Inf_upper_bound = Infupperq + (1.5*Infiqr)"
   ]
  },
  {
   "cell_type": "markdown",
   "metadata": {},
   "source": [
    "### 4) Ceftamin"
   ]
  },
  {
   "cell_type": "code",
   "execution_count": 135,
   "metadata": {},
   "outputs": [],
   "source": [
    "Ceftamin_by_MouseID = mouse_study_dataset.loc[mouse_study_dataset[\"Drug Regimen\"] == \"Ceftamin\",:].groupby(\"Mouse ID\")\n",
    "Ceftamin_final_timepoint = Ceftamin_by_MouseID[[ \"Timepoint\"]].max()\n",
    "\n",
    "Ceftamin_remerge_indexed = pd.merge(Ceftamin_final_timepoint, mouse_study_dataset, how=\"left\", on = [\"Mouse ID\", \"Timepoint\"]).set_index(['Mouse ID'])\n",
    "Ceftamin_final_volume = Ceftamin_remerge_indexed[\"Tumor Volume (mm3)\"]\n",
    "\n",
    "Ceftamin_quartiles = Ceftamin_final_volume.quantile([.25,.5,.75])\n",
    "Ceflowerq = Ceftamin_quartiles[0.25]\n",
    "Cefupperq = Ceftamin_quartiles[0.75]\n",
    "Cefiqr = Cefupperq-Ceflowerq\n",
    "Cef_lower_bound = Ceflowerq - (1.5*Cefiqr)\n",
    "Cef_upper_bound = Cefupperq + (1.5*Cefiqr)"
   ]
  },
  {
   "cell_type": "code",
   "execution_count": 136,
   "metadata": {},
   "outputs": [
    {
     "name": "stdout",
     "output_type": "stream",
     "text": [
      "Capomulin Lower Quartile: 32.38\n",
      "Capomulin Upper Quartile: 40.16\n",
      "Capomulin IQR: 7.78\n",
      "Outliers: below 20.7 or above 51.83\n",
      "---------------------------------------------------\n",
      "Ramicane Lower Quartile: 31.56\n",
      "Ramicane Upper Quartile: 40.66\n",
      "Ramicane IQR: 9.1\n",
      "Outliers: below 17.91 or above 54.31\n",
      "---------------------------------------------------\n",
      "Infubinol Lower Quartile: 54.05\n",
      "Infubinol Upper Quartile: 65.53\n",
      "Infubinol IQR: 11.48\n",
      "Outliers: below 36.83 or above 82.74\n",
      "---------------------------------------------------\n",
      "Ceftamin Lower Quartile: 48.72\n",
      "Ceftamin Upper Quartile: 64.3\n",
      "Ceftamin IQR: 15.58\n",
      "Outliers: below 25.36 or above 87.67\n"
     ]
    }
   ],
   "source": [
    "# PRINT QUARTILES AND IQR FOR EACH REGIMEN...................................................................\n",
    "print(f\"Capomulin Lower Quartile: {round(Caplowerq,2)}\")\n",
    "print(f\"Capomulin Upper Quartile: {round(Capupperq,2)}\")\n",
    "print(f\"Capomulin IQR: {round(Capiqr,2)}\")\n",
    "print(f\"Outliers: below {round(Cap_lower_bound,2)} or above {round(Cap_upper_bound,2)}\")\n",
    "print(\"---------------------------------------------------\")\n",
    "\n",
    "print(f\"Ramicane Lower Quartile: {round(Ramlowerq,2)}\")\n",
    "print(f\"Ramicane Upper Quartile: {round(Ramupperq,2)}\")\n",
    "print(f\"Ramicane IQR: {round(Ramiqr,2)}\")\n",
    "print(f\"Outliers: below {round(Ram_lower_bound,2)} or above {round(Ram_upper_bound,2)}\")\n",
    "print(\"---------------------------------------------------\")\n",
    "\n",
    "print(f\"Infubinol Lower Quartile: {round(Inflowerq,2)}\")\n",
    "print(f\"Infubinol Upper Quartile: {round(Infupperq,2)}\")\n",
    "print(f\"Infubinol IQR: {round(Infiqr,2)}\")\n",
    "print(f\"Outliers: below {round(Inf_lower_bound,2)} or above {round(Inf_upper_bound,2)}\")\n",
    "print(\"---------------------------------------------------\")\n",
    "\n",
    "print(f\"Ceftamin Lower Quartile: {round(Ceflowerq,2)}\")\n",
    "print(f\"Ceftamin Upper Quartile: {round(Cefupperq,2)}\")\n",
    "print(f\"Ceftamin IQR: {round(Cefiqr,2)}\")\n",
    "print(f\"Outliers: below {round(Cef_lower_bound,2)} or above {round(Cef_upper_bound,2)}\")"
   ]
  },
  {
   "cell_type": "code",
   "execution_count": null,
   "metadata": {},
   "outputs": [],
   "source": []
  }
 ],
 "metadata": {
  "kernelspec": {
   "display_name": "Python 3",
   "language": "python",
   "name": "python3"
  },
  "language_info": {
   "codemirror_mode": {
    "name": "ipython",
    "version": 3
   },
   "file_extension": ".py",
   "mimetype": "text/x-python",
   "name": "python",
   "nbconvert_exporter": "python",
   "pygments_lexer": "ipython3",
   "version": "3.7.4"
  }
 },
 "nbformat": 4,
 "nbformat_minor": 2
}
