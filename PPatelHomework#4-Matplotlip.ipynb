{
 "cells": [
  {
   "cell_type": "markdown",
   "metadata": {},
   "source": [
    "# PPatel Homework #4 - Matplotlib"
   ]
  },
  {
   "cell_type": "markdown",
   "metadata": {},
   "source": [
    "# General Observations"
   ]
  },
  {
   "cell_type": "markdown",
   "metadata": {},
   "source": [
    "1) Capomulin and Ramicane both had the lowest overall average tumor volumes across all datapoints, as well as relatively low variance, standard deviation, and SEM - suggesting that the results for those two regimens were more positive and more consistent than the other regimens studied.\n",
    "\n",
    "2) Looking at the tumor growth in one of the Capomulin mice (Mouse t565), the results indicate that Capomulin does inhibit tumor growth, but only to a certain point (in this case, between time points 10 and 30).  After that, the effectiveness of the drug seems to plateau tumor growth starts to increase again, even with the regimen. \n",
    "\n",
    "3) Looking at the data for the Capomulin mice, there is a positive correleation between the each mouse's weight and the volume of the tumor, meaning the larger the mouse, the larger the tumor.  "
   ]
  },
  {
   "cell_type": "markdown",
   "metadata": {},
   "source": [
    "# Dependancies & Starter Code"
   ]
  },
  {
   "cell_type": "code",
   "execution_count": null,
   "metadata": {},
   "outputs": [],
   "source": [
    "# Dependencies and Setup\n",
    "import matplotlib.pyplot as plt\n",
    "import pandas as pd\n",
    "import numpy as np\n",
    "import scipy.stats as st\n",
    "\n",
    "mouse_metadata = \"Mouse_metadata.csv\"\n",
    "study_results = \"Study_results.csv\"\n",
    "\n",
    "mouse_metadata = pd.read_csv(mouse_metadata)\n",
    "study_results = pd.read_csv(study_results)\n",
    "\n",
    "#mouse_metadata.head()\n",
    "#study_results.head()\n",
    "\n",
    "mouse_study_dataset = pd.merge(mouse_metadata, study_results, how=\"left\", on = [\"Mouse ID\", \"Mouse ID\"])"
   ]
  },
  {
   "cell_type": "markdown",
   "metadata": {},
   "source": [
    "# Summary Table: Tumor Volume (mm3)"
   ]
  },
  {
   "cell_type": "code",
   "execution_count": null,
   "metadata": {},
   "outputs": [],
   "source": [
    "# SET INDEX & DIVIDE BY REGIMEN............................................................................\n",
    "index_by_regimen = mouse_study_dataset.set_index(['Drug Regimen'])\n",
    "mouse_study_grouped = index_by_regimen.groupby([\"Drug Regimen\"])\n",
    "\n",
    "#CREATE VARIABLES..........................................................................................\n",
    "regimen_volume_means = round(mouse_study_grouped['Tumor Volume (mm3)'].mean(),2)\n",
    "regimen_volume_medians = round(mouse_study_grouped['Tumor Volume (mm3)'].median(),2)\n",
    "regimen_volume_variance = round(mouse_study_grouped['Tumor Volume (mm3)'].var(),2)\n",
    "regimen_volume_stddev = round(mouse_study_grouped['Tumor Volume (mm3)'].std(),2)\n",
    "regimen_volume_SEM = round(mouse_study_grouped['Tumor Volume (mm3)'].sem(),3)\n",
    "\n",
    "#CREATE DATAFRAME..........................................................................................\n",
    "summary_stats = pd.DataFrame({\"Tumor Volume Mean\": regimen_volume_means,\n",
    "                              \"Tumor Volume Median\": regimen_volume_medians,\n",
    "                              \"Tumor Volume Variance\": regimen_volume_variance,\n",
    "                              \"Tumor Volume Std Dev\": regimen_volume_stddev,\n",
    "                              \"Tumor Volume SEM\": regimen_volume_SEM})\n",
    "\n",
    "\n",
    "summary_stats"
   ]
  },
  {
   "cell_type": "markdown",
   "metadata": {},
   "source": [
    "# Datapoints per Regimen Bar Graph: Matplotlib"
   ]
  },
  {
   "cell_type": "code",
   "execution_count": null,
   "metadata": {},
   "outputs": [],
   "source": [
    "# CREATE VARIABLE FOR X-AXIS.......................................................................\n",
    "drug_regimen_sorted = mouse_study_dataset.sort_values(\"Drug Regimen\")\n",
    "drug_regimen = drug_regimen_sorted[\"Drug Regimen\"].unique()\n",
    "datapoints = mouse_study_grouped[\"Tumor Volume (mm3)\"].count()\n",
    "\n",
    "# PLOT BAR GRAPH..................................................................................\n",
    "plt.figure(figsize=(10,6))\n",
    "plt.bar(drug_regimen, datapoints, color='r', alpha=0.5, align=\"center\")\n",
    "tick_locations = [value for value in drug_regimen]\n",
    "plt.xticks(tick_locations, ['Capomulin', 'Ceftamin', 'Infubinol', 'Ketapril', 'Naftisol', 'Placebo', 'Propriva', 'Ramicane', 'Stelasyn', 'Zoniferol'])\n",
    "plt.xlim(-0.75, len(drug_regimen)-0.25)\n",
    "plt.ylim(0, 250)\n",
    "plt.title(\"Datapoints per Drug Regimen Treatment\")\n",
    "plt.xlabel(\"Drug Regimen\")\n",
    "plt.ylabel(\"Number of Datapoints\")"
   ]
  },
  {
   "cell_type": "markdown",
   "metadata": {},
   "source": [
    "# Datapoints per Regimen Bar Graph: Pandas"
   ]
  },
  {
   "cell_type": "code",
   "execution_count": null,
   "metadata": {},
   "outputs": [],
   "source": [
    "# REORGANIZE DATA....................................................................................\n",
    "mouse_study_dataset_reduced = mouse_study_dataset[[\"Drug Regimen\", \"Tumor Volume (mm3)\"]]\n",
    "drugs_and_growth = mouse_study_dataset_reduced.groupby([\"Drug Regimen\"]).count()\n",
    "\n",
    "# PLOT BAR GRAPH.....................................................................................\n",
    "drugs_and_growth.plot(kind=\"bar\", figsize=(10,6))\n",
    "plt.title(\"Datapoints per Drug Regimen Treatment\")\n",
    "plt.xlabel(\"Drug Regimen\")\n",
    "plt.ylabel(\"Number of Datapoints\")\n",
    "plt.show()\n",
    "plt.tight_layout()"
   ]
  },
  {
   "cell_type": "markdown",
   "metadata": {},
   "source": [
    "# Mouse Sex: Matplotlib"
   ]
  },
  {
   "cell_type": "code",
   "execution_count": null,
   "metadata": {},
   "outputs": [],
   "source": [
    "# CREATE VARIABLES.................................................................................................\n",
    "sex_assignment = mouse_study_dataset.sort_values(\"Sex\")\n",
    "sex_values = sex_assignment['Sex'].unique()\n",
    "\n",
    "sex_grouping = mouse_study_dataset.groupby(\"Sex\")\n",
    "num_sex = sex_grouping['Sex'].count()\n",
    "\n",
    "colors = [\"lightblue\",\"red\"]\n",
    "explode = (0,0)\n",
    "\n",
    "# CREATE PIE CHART.................................................................................................\n",
    "plt.pie(num_sex, explode=explode, labels=sex_values, colors=colors,\n",
    "        autopct=\"%1.1f%%\", shadow=True, startangle=140)\n",
    "plt.axis(\"equal\")\n",
    "plt.title(\"Male vs Female Mice Used in Study\")\n",
    "plt.show()\n"
   ]
  },
  {
   "cell_type": "markdown",
   "metadata": {},
   "source": [
    "# Mouse Sex: Pandas"
   ]
  },
  {
   "cell_type": "code",
   "execution_count": null,
   "metadata": {},
   "outputs": [],
   "source": [
    "ax1 = plt.subplot(121, aspect='equal')\n",
    "num_sex.plot(kind=\"pie\", y ='num_sex', ax=ax1, autopct='%1.1f%%', startangle=90, shadow=False, labels=sex_values, legend = False, fontsize=14, figsize=(10,6))\n",
    "plt.title(\"Male vs Female Mice Used in Study\")"
   ]
  },
  {
   "cell_type": "markdown",
   "metadata": {},
   "source": [
    "# Promising Regimens"
   ]
  },
  {
   "cell_type": "code",
   "execution_count": null,
   "metadata": {},
   "outputs": [],
   "source": [
    "#CALCULATE DATA SETS & FINAL TIMEPOINT FOR EACH OF THE 4 REGIMENS.........................................................\n",
    "Capomulin_data = mouse_study_dataset.loc[mouse_study_dataset[\"Drug Regimen\"] == \"Capomulin\",:]\n",
    "Capomulin_by_MouseID = Capomulin_data.groupby(\"Mouse ID\")\n",
    "Capomulin_final_timepoint = Capomulin_by_MouseID[[ \"Timepoint\"]].max()\n",
    "\n",
    "Ramicane_data = mouse_study_dataset.loc[mouse_study_dataset[\"Drug Regimen\"] == \"Ramicane\",:]\n",
    "Ramicane_by_MouseID = Ramicane_data.groupby(\"Mouse ID\")\n",
    "Ramicane_final_timepoint = Ramicane_by_MouseID[[ \"Timepoint\"]].max()\n",
    "\n",
    "Infubinol_data = mouse_study_dataset.loc[mouse_study_dataset[\"Drug Regimen\"] == \"Infubinol\",:]\n",
    "Infubinol_by_MouseID = Infubinol_data.groupby(\"Mouse ID\")\n",
    "Infubinol_final_timepoint = Infubinol_by_MouseID[[ \"Timepoint\"]].max()\n",
    "\n",
    "Ceftamin_data = mouse_study_dataset.loc[mouse_study_dataset[\"Drug Regimen\"] == \"Ceftamin\",:]\n",
    "Ceftamin_by_MouseID = Ceftamin_data.groupby(\"Mouse ID\")\n",
    "Ceftamin_final_timepoint = Ceftamin_by_MouseID[[ \"Timepoint\"]].max()\n",
    "\n",
    "#REMERGE DATA & INDEX TO IDENTIFY THE FINAL TUMOR VOLUME FOR EACH MOUSE IN EACH OF THE 4 REGIMENS.................................................\n",
    "Capomulin_remerge = pd.merge(Capomulin_final_timepoint, mouse_study_dataset, how=\"left\", on = [\"Mouse ID\", \"Timepoint\"])\n",
    "Ramicane_remerge = pd.merge(Ramicane_final_timepoint, mouse_study_dataset, how=\"left\", on = [\"Mouse ID\", \"Timepoint\"])\n",
    "Infubinol_remerge = pd.merge(Infubinol_final_timepoint, mouse_study_dataset, how=\"left\", on = [\"Mouse ID\", \"Timepoint\"])\n",
    "Ceftamin_remerge = pd.merge(Ceftamin_final_timepoint, mouse_study_dataset, how=\"left\", on = [\"Mouse ID\", \"Timepoint\"])\n",
    "\n",
    "Capomulin_remerge_indexed = Capomulin_remerge.set_index(['Mouse ID'])\n",
    "Ramicane_remerge_indexed = Ramicane_remerge.set_index(['Mouse ID'])\n",
    "Infubinol_remerge_indexed = Infubinol_remerge.set_index(['Mouse ID'])\n",
    "Ceftamin_remerge_indexed = Ceftamin_remerge.set_index(['Mouse ID'])\n",
    "\n",
    "# SEPARATE OUT FINAL VOLUME FOR EACH REGIMEN.............................................................................\n",
    "Capomulin_final_volume = Capomulin_remerge_indexed[\"Tumor Volume (mm3)\"]\n",
    "Ramicane_final_volume = Ramicane_remerge_indexed[\"Tumor Volume (mm3)\"]\n",
    "Infubinol_final_volume = Infubinol_remerge_indexed[\"Tumor Volume (mm3)\"]\n",
    "Ceftamin_final_volume = Ceftamin_remerge_indexed[\"Tumor Volume (mm3)\"]\n",
    "\n",
    "# CALCULATE & PRINT QUARTILES AND IQR FOR EACH REGIMEN...................................................................\n",
    "Capomulin_quartiles = Capomulin_final_volume.quantile([.25,.5,.75])\n",
    "Caplowerq = Capomulin_quartiles[0.25]\n",
    "Capupperq = Capomulin_quartiles[0.75]\n",
    "Capiqr = Capupperq-Caplowerq\n",
    "Cap_lower_bound = Caplowerq - (1.5*Capiqr)\n",
    "Cap_upper_bound = Capupperq + (1.5*Capiqr)\n",
    "\n",
    "print(f\"Capomulin Lower Quartile: {round(Caplowerq,2)}\")\n",
    "print(f\"Capomulin Upper Quartile: {round(Capupperq,2)}\")\n",
    "print(f\"Capomulin IQR: {round(Capiqr,2)}\")\n",
    "print(f\"Outliers: below {round(Cap_lower_bound,2)} or above {round(Cap_upper_bound,2)}\")\n",
    "print(\"---------------------------------------------------\")\n",
    "\n",
    "Ramicane_quartiles = Ramicane_final_volume.quantile([.25,.5,.75])\n",
    "Ramlowerq = Ramicane_quartiles[0.25]\n",
    "Ramupperq = Ramicane_quartiles[0.75]\n",
    "Ramiqr = Ramupperq-Ramlowerq\n",
    "Ram_lower_bound = Ramlowerq - (1.5*Ramiqr)\n",
    "Ram_upper_bound = Ramupperq + (1.5*Ramiqr)\n",
    "\n",
    "print(f\"Ramicane Lower Quartile: {round(Ramlowerq,2)}\")\n",
    "print(f\"Ramicane Upper Quartile: {round(Ramupperq,2)}\")\n",
    "print(f\"Ramicane IQR: {round(Ramiqr,2)}\")\n",
    "print(f\"Outliers: below {round(Ram_lower_bound,2)} or above {round(Ram_upper_bound,2)}\")\n",
    "print(\"---------------------------------------------------\")\n",
    "\n",
    "Infubinol_quartiles = Infubinol_final_volume.quantile([.25,.5,.75])\n",
    "Inflowerq = Infubinol_quartiles[0.25]\n",
    "Infupperq = Infubinol_quartiles[0.75]\n",
    "Infiqr = Infupperq-Inflowerq\n",
    "Inf_lower_bound = Inflowerq - (1.5*Infiqr)\n",
    "Inf_upper_bound = Infupperq + (1.5*Infiqr)\n",
    "\n",
    "print(f\"Infubinol Lower Quartile: {round(Inflowerq,2)}\")\n",
    "print(f\"Infubinol Upper Quartile: {round(Infupperq,2)}\")\n",
    "print(f\"Infubinol IQR: {round(Infiqr,2)}\")\n",
    "print(f\"Outliers: below {round(Inf_lower_bound,2)} or above {round(Inf_upper_bound,2)}\")\n",
    "print(\"---------------------------------------------------\")\n",
    "\n",
    "Ceftamin_quartiles = Ceftamin_final_volume.quantile([.25,.5,.75])\n",
    "Ceflowerq = Ceftamin_quartiles[0.25]\n",
    "Cefupperq = Ceftamin_quartiles[0.75]\n",
    "Cefiqr = Cefupperq-Ceflowerq\n",
    "Cef_lower_bound = Ceflowerq - (1.5*Cefiqr)\n",
    "Cef_upper_bound = Cefupperq + (1.5*Cefiqr)\n",
    "\n",
    "print(f\"Ceftamin Lower Quartile: {round(Ceflowerq,2)}\")\n",
    "print(f\"Ceftamin Upper Quartile: {round(Cefupperq,2)}\")\n",
    "print(f\"Ceftamin IQR: {round(Cefiqr,2)}\")\n",
    "print(f\"Outliers: below {round(Cef_lower_bound,2)} or above {round(Cef_upper_bound,2)}\")\n"
   ]
  },
  {
   "cell_type": "markdown",
   "metadata": {},
   "source": [
    "# Outliers:\n",
    "Based on the IQRs, if there are any outliers in the data, they are most likley to be in the Infubinol or Ceftamin data groups.  Ceftamin has the widest IQR, with Infubinol being the second highest.  However this could be the result of a wider variance in the datapoints, instead of there being an outlier skewing the data. looking back at the Summary Data table created for Volume Growth, Infubinol has the widest variance between the 4 regimens being compared, with Ceftamn coming in second. Additionally, Infubinol also has the widest standard deviation of the four. \n",
    "\n",
    "A look at the boxplots (generated below) shows that it is in fact Infubinal that has an outlier within it's dataset. "
   ]
  },
  {
   "cell_type": "code",
   "execution_count": null,
   "metadata": {},
   "outputs": [],
   "source": [
    "Four_regimen_boxplot = [Capomulin_final_volume, Ramicane_final_volume, Infubinol_final_volume, Ceftamin_final_volume]\n",
    "red_square = dict(markerfacecolor='r', marker='s')\n",
    "\n",
    "fig1, ax1 = plt.subplots()\n",
    "ax1.set_title('Final Tumor Volumes in Test Mice')\n",
    "ax1.set_ylabel('Final Tumor Volume (mm3)')\n",
    "ax1.set_xticklabels(['Capomulin', 'Ramicane', 'Infubinol', 'Ceftamin'])\n",
    "ax1.boxplot(Four_regimen_boxplot, flierprops=red_square)\n",
    "plt.show()"
   ]
  },
  {
   "cell_type": "markdown",
   "metadata": {},
   "source": [
    "# Timepoint vs. Tumor Volume for Mouse t565"
   ]
  },
  {
   "cell_type": "code",
   "execution_count": null,
   "metadata": {},
   "outputs": [],
   "source": [
    "# CALCULATE VARIABLES........................................................................................\n",
    "t565_data = Capomulin_data.loc[Capomulin_data[\"Mouse ID\"] == \"t565\",:]\n",
    "t565_timepoints = t565_data[\"Timepoint\"]\n",
    "t565_volume = round(t565_data[\"Tumor Volume (mm3)\"],2)\n",
    "\n",
    "# PLOT GRAPH.................................................................................................\n",
    "Capomulin_y565 = plt.plot(t565_timepoints, t565_volume, marker=\"s\", color=\"Red\", linewidth=1, label=\"Tumor Volume\")\n",
    "plt.xlabel('Study Timepoints')\n",
    "plt.ylabel('Tumor Volume (mm3)')\n",
    "plt.title('Timepoint vs. Tumor Volume for Capomulin Mouse t565')"
   ]
  },
  {
   "cell_type": "markdown",
   "metadata": {},
   "source": [
    "# Capomulin Mouse Weight vs Average Tumor Volume"
   ]
  },
  {
   "cell_type": "code",
   "execution_count": null,
   "metadata": {},
   "outputs": [],
   "source": [
    "from scipy.stats import linregress\n",
    "\n",
    "# CALCULATE VARIABLES........................................................................................\n",
    "Cap_weights = Capomulin_by_MouseID[\"Weight (g)\"].mean()\n",
    "Cap_ave_tumor_volume = Capomulin_by_MouseID[\"Tumor Volume (mm3)\"].mean()\n",
    "Cap_weights\n",
    "\n",
    "# PLOT GRAPH.................................................................................................\n",
    "x_values = Cap_weights\n",
    "y_values = Cap_ave_tumor_volume\n",
    "(slope, intercept, rvalue, pvalue, stderr) = linregress(x_values, y_values)\n",
    "regress_values = x_values * slope + intercept\n",
    "line_eq = \"y = \" + str(round(slope,2)) + \"x + \" + str(round(intercept,2))\n",
    "plt.scatter(x_values,y_values)\n",
    "plt.plot(x_values,regress_values,\"r-\")\n",
    "plt.annotate(line_eq,(20,3),fontsize=15,color=\"red\")\n",
    "plt.title('Capomulin Mouse Weight vs. Average Tumor Volume')\n",
    "plt.xlabel('Mouse Weight (g)')\n",
    "plt.ylabel('Average Tumor Volume (mm3)')\n",
    "print(f\"The r-squared is: {rvalue}\")\n",
    "plt.show()"
   ]
  },
  {
   "cell_type": "code",
   "execution_count": null,
   "metadata": {},
   "outputs": [],
   "source": []
  }
 ],
 "metadata": {
  "kernelspec": {
   "display_name": "Python 3",
   "language": "python",
   "name": "python3"
  },
  "language_info": {
   "codemirror_mode": {
    "name": "ipython",
    "version": 3
   },
   "file_extension": ".py",
   "mimetype": "text/x-python",
   "name": "python",
   "nbconvert_exporter": "python",
   "pygments_lexer": "ipython3",
   "version": "3.7.4"
  }
 },
 "nbformat": 4,
 "nbformat_minor": 2
}
